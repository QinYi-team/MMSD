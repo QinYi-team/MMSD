{
 "cells": [
  {
   "cell_type": "code",
   "execution_count": 1,
   "metadata": {},
   "outputs": [],
   "source": [
    "import tensorflow as tf\n",
    "import matplotlib.pyplot as plt\n",
    "%matplotlib inline\n",
    "import numpy as np\n",
    "import sys\n",
    "import sklearn\n",
    "from sklearn import metrics\n",
    "import os\n",
    "import pandas as pd\n",
    "import time\n",
    "from sklearn.manifold import TSNE\n",
    "from sklearn.decomposition import PCA\n",
    "import logging\n",
    "logging.disable(30)\n",
    "from collections import  Counter\n",
    "import math\n",
    "import random\n",
    "from fitter import Fitter\n",
    "random_seed =3407\n",
    "tf.random.set_seed(random_seed )\n",
    "os.environ['TF_DETERMINISTIC_OPS'] = '1'"
   ]
  },
  {
   "cell_type": "code",
   "execution_count": 2,
   "metadata": {},
   "outputs": [
    {
     "data": {
      "text/plain": [
       "((4000, 3072), (4000, 4), (4000, 3072), (4000, 4))"
      ]
     },
     "execution_count": 2,
     "metadata": {},
     "output_type": "execute_result"
    }
   ],
   "source": [
    "source_data=np.load(r\"48kcwru_data.npy\")\n",
    "source_label=np.load(r\"48kcwru_label.npy\")\n",
    "\n",
    "target_data=np.load(r\"seu2_data.npy\")\n",
    "target_label=np.load(r\"seu2_label.npy\")\n",
    "\n",
    "source_data.shape,source_label.shape,target_data.shape,target_label.shape"
   ]
  },
  {
   "cell_type": "code",
   "execution_count": 3,
   "metadata": {},
   "outputs": [],
   "source": [
    "source_data=(source_data-source_data.min(axis=1).reshape((len(source_data),1)))/(source_data.max(axis=1).reshape((len(source_data),1))-source_data.min(axis=1).reshape((len(source_data),1)))\n",
    "target_data=(target_data-target_data.min(axis=1).reshape((len(target_data),1)))/(target_data.max(axis=1).reshape((len(target_data),1))-target_data.min(axis=1).reshape((len(target_data),1)))"
   ]
  },
  {
   "cell_type": "code",
   "execution_count": 4,
   "metadata": {},
   "outputs": [],
   "source": [
    "source_data=tf.expand_dims(source_data,axis=-1)\n",
    "target_data=tf.expand_dims(target_data,axis=-1)"
   ]
  },
  {
   "cell_type": "code",
   "execution_count": 5,
   "metadata": {},
   "outputs": [],
   "source": [
    "train_dataset=tf.data.Dataset.from_tensor_slices((source_data,target_data,source_label,target_label))\n",
    "train_dataset=train_dataset.shuffle(4000).batch(128,drop_remainder=True)\n",
    "\n",
    "test_dataset=tf.data.Dataset.from_tensor_slices((source_data,target_data,source_label,target_label))\n",
    "test_dataset=test_dataset.batch(4000,drop_remainder=True)"
   ]
  },
  {
   "cell_type": "code",
   "execution_count": 6,
   "metadata": {},
   "outputs": [
    {
     "name": "stdout",
     "output_type": "stream",
     "text": [
      "Model: \"model\"\n",
      "_________________________________________________________________\n",
      "Layer (type)                 Output Shape              Param #   \n",
      "=================================================================\n",
      "input_1 (InputLayer)         [(None, 3072, 1)]         0         \n",
      "_________________________________________________________________\n",
      "conv1d (Conv1D)              (None, 192, 16)           1040      \n",
      "_________________________________________________________________\n",
      "batch_normalization (BatchNo (None, 192, 16)           64        \n",
      "_________________________________________________________________\n",
      "max_pooling1d (MaxPooling1D) (None, 96, 16)            0         \n",
      "_________________________________________________________________\n",
      "conv1d_1 (Conv1D)            (None, 96, 32)            1568      \n",
      "_________________________________________________________________\n",
      "batch_normalization_1 (Batch (None, 96, 32)            128       \n",
      "_________________________________________________________________\n",
      "max_pooling1d_1 (MaxPooling1 (None, 48, 32)            0         \n",
      "_________________________________________________________________\n",
      "conv1d_2 (Conv1D)            (None, 48, 64)            6208      \n",
      "_________________________________________________________________\n",
      "batch_normalization_2 (Batch (None, 48, 64)            256       \n",
      "_________________________________________________________________\n",
      "max_pooling1d_2 (MaxPooling1 (None, 24, 64)            0         \n",
      "_________________________________________________________________\n",
      "conv1d_3 (Conv1D)            (None, 24, 128)           24704     \n",
      "_________________________________________________________________\n",
      "batch_normalization_3 (Batch (None, 24, 128)           512       \n",
      "_________________________________________________________________\n",
      "max_pooling1d_3 (MaxPooling1 (None, 12, 128)           0         \n",
      "_________________________________________________________________\n",
      "conv1d_4 (Conv1D)            (None, 12, 256)           98560     \n",
      "_________________________________________________________________\n",
      "batch_normalization_4 (Batch (None, 12, 256)           1024      \n",
      "_________________________________________________________________\n",
      "max_pooling1d_4 (MaxPooling1 (None, 6, 256)            0         \n",
      "_________________________________________________________________\n",
      "global_average_pooling1d (Gl (None, 256)               0         \n",
      "_________________________________________________________________\n",
      "dense (Dense)                (None, 128)               32896     \n",
      "_________________________________________________________________\n",
      "dense_1 (Dense)              (None, 4)                 516       \n",
      "=================================================================\n",
      "Total params: 167,476\n",
      "Trainable params: 166,484\n",
      "Non-trainable params: 992\n",
      "_________________________________________________________________\n"
     ]
    }
   ],
   "source": [
    "def Model():\n",
    "    input_1=tf.keras.Input(shape=(3072,1))\n",
    "\n",
    "    x=tf.keras.layers.Conv1D(filters=16,kernel_size=64,strides=16,activation='relu',padding='same')(input_1)\n",
    "    x=tf.keras.layers.BatchNormalization()(x)\n",
    "    x=tf.keras.layers.MaxPooling1D(pool_size=2,strides=2,padding='same')(x)\n",
    "\n",
    "    x=tf.keras.layers.Conv1D(filters=32,kernel_size=3,strides=1,activation='relu',padding='same')(x)\n",
    "    x=tf.keras.layers.BatchNormalization()(x)\n",
    "    x=tf.keras.layers.MaxPooling1D(pool_size=2,strides=2,padding='same')(x)\n",
    "\n",
    "    x=tf.keras.layers.Conv1D(filters=64,kernel_size=3,strides=1,activation='relu',padding='same')(x)\n",
    "    x=tf.keras.layers.BatchNormalization()(x)\n",
    "    x=tf.keras.layers.MaxPooling1D(pool_size=2,strides=2,padding='same')(x)\n",
    "\n",
    "    x=tf.keras.layers.Conv1D(filters=128,kernel_size=3,strides=1,activation='relu',padding='same')(x)\n",
    "    x=tf.keras.layers.BatchNormalization()(x)\n",
    "    x=tf.keras.layers.MaxPooling1D(pool_size=2,strides=2,padding='same')(x)\n",
    "\n",
    "    x=tf.keras.layers.Conv1D(filters=256,kernel_size=3,strides=1,activation='relu',padding='same')(x)\n",
    "    x=tf.keras.layers.BatchNormalization()(x)\n",
    "    x=tf.keras.layers.MaxPooling1D(pool_size=2,strides=2,padding='same')(x)\n",
    "\n",
    "    x=tf.keras.layers.GlobalAveragePooling1D()(x)\n",
    "\n",
    "    y1=tf.keras.layers.Dense(128,activation='relu')(x)\n",
    "    y2=tf.keras.layers.Dense(4)(y1)\n",
    "\n",
    "    model=tf.keras.Model(inputs=input_1,outputs=[y1,y2])\n",
    "    \n",
    "    return model\n",
    "\n",
    "model=Model()\n",
    "model.summary()"
   ]
  },
  {
   "cell_type": "code",
   "execution_count": 7,
   "metadata": {},
   "outputs": [],
   "source": [
    "pre_optimizer=tf.keras.optimizers.Adam(learning_rate=0.001)\n",
    "optimizer=tf.keras.optimizers.Adam(learning_rate=0.001)             \n",
    "loss_func=tf.keras.losses.CategoricalCrossentropy(from_logits=True) "
   ]
  },
  {
   "cell_type": "code",
   "execution_count": 8,
   "metadata": {},
   "outputs": [],
   "source": [
    "def mix_rbf_mmsd(X, Y, sigmas=(1,), wts=None, biased=True):\n",
    "    K_XX, K_XY, K_YY, d = _mix_rbf_kernel(X, Y, sigmas, wts)\n",
    "    return _mmsd(K_XX, K_XY, K_YY, const_diagonal=d, biased=biased)\n",
    "\n",
    "\n",
    "def _mix_rbf_kernel(X, Y, sigmas, wts=None):\n",
    "    if wts is None:\n",
    "        wts = [1] * len(sigmas)\n",
    "\n",
    "    XX = tf.matmul(X, X, transpose_b=True)\n",
    "    XY = tf.matmul(X, Y, transpose_b=True)\n",
    "    YY = tf.matmul(Y, Y, transpose_b=True)\n",
    "\n",
    "    X_sqnorms = tf.linalg.diag_part(XX)\n",
    "    Y_sqnorms = tf.linalg.diag_part(YY)\n",
    "\n",
    "    r = lambda x: tf.expand_dims(x, 0)\n",
    "    c = lambda x: tf.expand_dims(x, 1)\n",
    "\n",
    "    K_XX, K_XY, K_YY = 0, 0, 0\n",
    "    for sigma, wt in zip(sigmas, wts):\n",
    "        gamma = 1 / (2 * sigma**2)\n",
    "        K_XX += wt * tf.exp(-gamma * (-2 * XX + c(X_sqnorms) + r(X_sqnorms)))\n",
    "        K_XY += wt * tf.exp(-gamma * (-2 * XY + c(X_sqnorms) + r(Y_sqnorms)))\n",
    "        K_YY += wt * tf.exp(-gamma * (-2 * YY + c(Y_sqnorms) + r(Y_sqnorms)))\n",
    "    return K_XX, K_XY, K_YY, tf.reduce_sum(wts)\n",
    "    \n",
    "\n",
    "def _mmsd(K_XX, K_XY, K_YY, const_diagonal=False, biased=False):\n",
    "    m = tf.cast(K_XX.get_shape()[0], tf.float32)\n",
    "    n = tf.cast(K_YY.get_shape()[0], tf.float32)\n",
    "    \n",
    "    C_K_XX=tf.pow(K_XX,2)\n",
    "    C_K_YY=tf.pow(K_YY,2)\n",
    "    C_K_XY=tf.pow(K_XY,2)\n",
    "\n",
    "\n",
    "    if biased:\n",
    "        mmsd = (tf.reduce_sum(C_K_XX) / (m * m)\n",
    "              + tf.reduce_sum(C_K_YY) / (n * n)\n",
    "              - 2 * tf.reduce_sum(C_K_XY) / (m * n))\n",
    "    else:\n",
    "        if const_diagonal is not False:\n",
    "            trace_X = m * const_diagonal\n",
    "            trace_Y = n * const_diagonal\n",
    "        else:\n",
    "            trace_X = tf.linalg.trace(C_K_XX)\n",
    "            trace_Y = tf.linalg.trace(C_K_YY)\n",
    "\n",
    "        mmsd = ((tf.reduce_sum(C_K_XX) - trace_X) / ((m-1) * m)\n",
    "              + (tf.reduce_sum(C_K_YY) - trace_Y) / ((n-1) * n)\n",
    "              - 2 * tf.reduce_sum(C_K_XY) / (m* n))\n",
    "    return mmsd"
   ]
  },
  {
   "cell_type": "code",
   "execution_count": 9,
   "metadata": {},
   "outputs": [],
   "source": [
    "def mmsd_rbf_loss(X1,X2, bandwidths=[3]):\n",
    "    kernel_loss = mix_rbf_mmsd(X1,X2, sigmas=bandwidths)\n",
    "    return kernel_loss"
   ]
  },
  {
   "cell_type": "code",
   "execution_count": 10,
   "metadata": {},
   "outputs": [],
   "source": [
    "clc_loss=tf.keras.metrics.Mean('clc_loss')                       \n",
    "mmsd_loss=tf.keras.metrics.Mean('mvd_loss')\n",
    "\n",
    "train_accuracy=tf.keras.metrics.CategoricalAccuracy('train_accuracy')\n",
    "test_accuracy=tf.keras.metrics.CategoricalAccuracy('test_accuracy')\n",
    "\n",
    "train_acc=[]\n",
    "test_acc=[]\n",
    "clc_loss_=[]\n",
    "mmsd_loss_=[]"
   ]
  },
  {
   "cell_type": "code",
   "execution_count": 11,
   "metadata": {},
   "outputs": [],
   "source": [
    "def train_step(model, source_data,target_data,source_label,target_label):\n",
    "    u=1\n",
    "    with tf.GradientTape() as t:\n",
    "        out1,output1 = model(source_data,training = True)                              \n",
    "        out2,output2 = model(target_data,training = True)                               \n",
    "        loss_step =loss_func(source_label,output1) + u*mmsd_rbf_loss(output1,output2)      \n",
    "    grads = t.gradient(loss_step, model.trainable_variables)\n",
    "    \n",
    "    optimizer.apply_gradients(zip(grads, model.trainable_variables))\n",
    "    \n",
    "    mmsd_loss(u*mmsd_rbf_loss(output1,output2))\n",
    "    clc_loss(loss_func(source_label,output1))\n",
    "    train_accuracy(source_label,output1)\n",
    "    test_accuracy(target_label,output2)\n",
    "\n",
    "    \n",
    "def train(epochs):\n",
    "    for epoch in range(epochs):\n",
    "        for (batch, (source_data,target_data,source_label,target_label)) in enumerate(train_dataset):\n",
    "            train_step(model,source_data,target_data,source_label,target_label)\n",
    "        train_acc.append(train_accuracy.result())\n",
    "        mmsd_loss_.append(mmsd_loss.result())\n",
    "        clc_loss_.append(clc_loss.result())\n",
    "        test_acc.append(test_accuracy.result())\n",
    "        \n",
    "        print('Epoch{}, mmsd_loss is {:.5f}, clc_loss is {:.5f}, train_accuracy is {:.5f},test_accuracy is {:.5f}'.format(epoch+1,\n",
    "                                                                                          mmsd_loss.result(),\n",
    "                                                                                          clc_loss.result(),           \n",
    "                                                                                          train_accuracy.result(),\n",
    "                                                                                          test_accuracy.result()))\n",
    "        \n",
    "        mmsd_loss.reset_states()\n",
    "        clc_loss.reset_states()\n",
    "        train_accuracy.reset_states()\n",
    "        test_accuracy.reset_states()"
   ]
  },
  {
   "cell_type": "code",
   "execution_count": 12,
   "metadata": {
    "scrolled": true
   },
   "outputs": [
    {
     "name": "stdout",
     "output_type": "stream",
     "text": [
      "Epoch1, mmsd_loss is 0.08100, clc_loss is 0.12461, train_accuracy is 0.96043,test_accuracy is 0.62324\n",
      "Epoch2, mmsd_loss is 0.02677, clc_loss is 0.00378, train_accuracy is 0.99950,test_accuracy is 0.79839\n",
      "Epoch3, mmsd_loss is 0.02105, clc_loss is 0.00151, train_accuracy is 1.00000,test_accuracy is 0.85005\n",
      "Epoch4, mmsd_loss is 0.01808, clc_loss is 0.00089, train_accuracy is 1.00000,test_accuracy is 0.86316\n",
      "Epoch5, mmsd_loss is 0.01743, clc_loss is 0.00130, train_accuracy is 1.00000,test_accuracy is 0.86290\n",
      "Epoch6, mmsd_loss is 0.01673, clc_loss is 0.00102, train_accuracy is 0.99975,test_accuracy is 0.88281\n",
      "Epoch7, mmsd_loss is 0.01601, clc_loss is 0.00046, train_accuracy is 1.00000,test_accuracy is 0.89743\n",
      "Epoch8, mmsd_loss is 0.01609, clc_loss is 0.00094, train_accuracy is 0.99950,test_accuracy is 0.90827\n",
      "Epoch9, mmsd_loss is 0.01517, clc_loss is 0.00056, train_accuracy is 1.00000,test_accuracy is 0.92087\n",
      "Epoch10, mmsd_loss is 0.01405, clc_loss is 0.00045, train_accuracy is 1.00000,test_accuracy is 0.93473\n",
      "Epoch11, mmsd_loss is 0.01318, clc_loss is 0.00019, train_accuracy is 1.00000,test_accuracy is 0.94103\n",
      "Epoch12, mmsd_loss is 0.01316, clc_loss is 0.00051, train_accuracy is 1.00000,test_accuracy is 0.93700\n",
      "Epoch13, mmsd_loss is 0.01217, clc_loss is 0.00027, train_accuracy is 1.00000,test_accuracy is 0.95514\n",
      "Epoch14, mmsd_loss is 0.01102, clc_loss is 0.00023, train_accuracy is 1.00000,test_accuracy is 0.96472\n",
      "Epoch15, mmsd_loss is 0.00865, clc_loss is 0.00026, train_accuracy is 1.00000,test_accuracy is 0.97555\n",
      "Epoch16, mmsd_loss is 0.00737, clc_loss is 0.00044, train_accuracy is 1.00000,test_accuracy is 0.98286\n",
      "Epoch17, mmsd_loss is 0.00632, clc_loss is 0.00028, train_accuracy is 1.00000,test_accuracy is 0.98740\n",
      "Epoch18, mmsd_loss is 0.00388, clc_loss is 0.00027, train_accuracy is 1.00000,test_accuracy is 0.99395\n",
      "Epoch19, mmsd_loss is 0.00391, clc_loss is 0.00044, train_accuracy is 1.00000,test_accuracy is 0.99622\n",
      "Epoch20, mmsd_loss is 0.00247, clc_loss is 0.00039, train_accuracy is 1.00000,test_accuracy is 0.99798\n",
      "Epoch21, mmsd_loss is 0.00208, clc_loss is 0.00036, train_accuracy is 1.00000,test_accuracy is 0.99824\n",
      "Epoch22, mmsd_loss is 0.00142, clc_loss is 0.00032, train_accuracy is 1.00000,test_accuracy is 0.99899\n",
      "Epoch23, mmsd_loss is 0.00126, clc_loss is 0.00026, train_accuracy is 1.00000,test_accuracy is 0.99975\n",
      "Epoch24, mmsd_loss is 0.00124, clc_loss is 0.00024, train_accuracy is 1.00000,test_accuracy is 0.99924\n",
      "Epoch25, mmsd_loss is 0.00086, clc_loss is 0.00022, train_accuracy is 1.00000,test_accuracy is 0.99975\n",
      "Epoch26, mmsd_loss is 0.00071, clc_loss is 0.00019, train_accuracy is 1.00000,test_accuracy is 1.00000\n",
      "Epoch27, mmsd_loss is 0.00080, clc_loss is 0.00016, train_accuracy is 1.00000,test_accuracy is 0.99950\n",
      "Epoch28, mmsd_loss is 0.00073, clc_loss is 0.00017, train_accuracy is 1.00000,test_accuracy is 1.00000\n",
      "Epoch29, mmsd_loss is 0.00082, clc_loss is 0.00016, train_accuracy is 1.00000,test_accuracy is 0.99950\n",
      "Epoch30, mmsd_loss is 0.00065, clc_loss is 0.00016, train_accuracy is 1.00000,test_accuracy is 0.99975\n",
      "Epoch31, mmsd_loss is 0.00054, clc_loss is 0.00013, train_accuracy is 1.00000,test_accuracy is 1.00000\n",
      "Epoch32, mmsd_loss is 0.00046, clc_loss is 0.00012, train_accuracy is 1.00000,test_accuracy is 1.00000\n",
      "Epoch33, mmsd_loss is 0.00049, clc_loss is 0.00010, train_accuracy is 1.00000,test_accuracy is 1.00000\n",
      "Epoch34, mmsd_loss is 0.00051, clc_loss is 0.00011, train_accuracy is 1.00000,test_accuracy is 1.00000\n",
      "Epoch35, mmsd_loss is 0.00047, clc_loss is 0.00011, train_accuracy is 1.00000,test_accuracy is 0.99950\n",
      "Epoch36, mmsd_loss is 0.00046, clc_loss is 0.00009, train_accuracy is 1.00000,test_accuracy is 0.99975\n",
      "Epoch37, mmsd_loss is 0.00045, clc_loss is 0.00009, train_accuracy is 1.00000,test_accuracy is 1.00000\n",
      "Epoch38, mmsd_loss is 0.00040, clc_loss is 0.00009, train_accuracy is 1.00000,test_accuracy is 1.00000\n",
      "Epoch39, mmsd_loss is 0.00039, clc_loss is 0.00008, train_accuracy is 1.00000,test_accuracy is 0.99975\n",
      "Epoch40, mmsd_loss is 0.00035, clc_loss is 0.00008, train_accuracy is 1.00000,test_accuracy is 1.00000\n",
      "Epoch41, mmsd_loss is 0.00029, clc_loss is 0.00007, train_accuracy is 1.00000,test_accuracy is 1.00000\n",
      "Epoch42, mmsd_loss is 0.00041, clc_loss is 0.00008, train_accuracy is 1.00000,test_accuracy is 0.99975\n",
      "Epoch43, mmsd_loss is 0.00034, clc_loss is 0.00008, train_accuracy is 1.00000,test_accuracy is 1.00000\n",
      "Epoch44, mmsd_loss is 0.00033, clc_loss is 0.00007, train_accuracy is 1.00000,test_accuracy is 0.99975\n",
      "Epoch45, mmsd_loss is 0.00028, clc_loss is 0.00006, train_accuracy is 1.00000,test_accuracy is 1.00000\n",
      "Epoch46, mmsd_loss is 0.00033, clc_loss is 0.00006, train_accuracy is 1.00000,test_accuracy is 0.99975\n",
      "Epoch47, mmsd_loss is 0.00028, clc_loss is 0.00006, train_accuracy is 1.00000,test_accuracy is 0.99975\n",
      "Epoch48, mmsd_loss is 0.00021, clc_loss is 0.00006, train_accuracy is 1.00000,test_accuracy is 0.99975\n",
      "Epoch49, mmsd_loss is 0.00029, clc_loss is 0.00005, train_accuracy is 1.00000,test_accuracy is 1.00000\n",
      "Epoch50, mmsd_loss is 0.00022, clc_loss is 0.00005, train_accuracy is 1.00000,test_accuracy is 1.00000\n",
      "Epoch51, mmsd_loss is 0.00025, clc_loss is 0.00005, train_accuracy is 1.00000,test_accuracy is 1.00000\n",
      "Epoch52, mmsd_loss is 0.00028, clc_loss is 0.00005, train_accuracy is 1.00000,test_accuracy is 1.00000\n",
      "Epoch53, mmsd_loss is 0.00024, clc_loss is 0.00005, train_accuracy is 1.00000,test_accuracy is 1.00000\n",
      "Epoch54, mmsd_loss is 0.00020, clc_loss is 0.00004, train_accuracy is 1.00000,test_accuracy is 1.00000\n",
      "Epoch55, mmsd_loss is 0.00024, clc_loss is 0.00004, train_accuracy is 1.00000,test_accuracy is 0.99975\n",
      "Epoch56, mmsd_loss is 0.00022, clc_loss is 0.00004, train_accuracy is 1.00000,test_accuracy is 1.00000\n",
      "Epoch57, mmsd_loss is 0.00019, clc_loss is 0.00004, train_accuracy is 1.00000,test_accuracy is 1.00000\n",
      "Epoch58, mmsd_loss is 0.00020, clc_loss is 0.00004, train_accuracy is 1.00000,test_accuracy is 0.99975\n",
      "Epoch59, mmsd_loss is 0.00018, clc_loss is 0.00004, train_accuracy is 1.00000,test_accuracy is 1.00000\n",
      "Epoch60, mmsd_loss is 0.00017, clc_loss is 0.00004, train_accuracy is 1.00000,test_accuracy is 1.00000\n",
      "Epoch61, mmsd_loss is 0.00018, clc_loss is 0.00003, train_accuracy is 1.00000,test_accuracy is 1.00000\n",
      "Epoch62, mmsd_loss is 0.00017, clc_loss is 0.00003, train_accuracy is 1.00000,test_accuracy is 1.00000\n",
      "Epoch63, mmsd_loss is 0.00022, clc_loss is 0.00003, train_accuracy is 1.00000,test_accuracy is 1.00000\n",
      "Epoch64, mmsd_loss is 0.00017, clc_loss is 0.00004, train_accuracy is 1.00000,test_accuracy is 1.00000\n",
      "Epoch65, mmsd_loss is 0.00018, clc_loss is 0.00003, train_accuracy is 1.00000,test_accuracy is 1.00000\n",
      "Epoch66, mmsd_loss is 0.00015, clc_loss is 0.00003, train_accuracy is 1.00000,test_accuracy is 1.00000\n",
      "Epoch67, mmsd_loss is 0.00013, clc_loss is 0.00003, train_accuracy is 1.00000,test_accuracy is 1.00000\n",
      "Epoch68, mmsd_loss is 0.00019, clc_loss is 0.00003, train_accuracy is 1.00000,test_accuracy is 1.00000\n",
      "Epoch69, mmsd_loss is 0.00015, clc_loss is 0.00003, train_accuracy is 1.00000,test_accuracy is 1.00000\n",
      "Epoch70, mmsd_loss is 0.00016, clc_loss is 0.00003, train_accuracy is 1.00000,test_accuracy is 0.99975\n",
      "Epoch71, mmsd_loss is 0.00015, clc_loss is 0.00003, train_accuracy is 1.00000,test_accuracy is 1.00000\n",
      "Epoch72, mmsd_loss is 0.00017, clc_loss is 0.00003, train_accuracy is 1.00000,test_accuracy is 1.00000\n",
      "Epoch73, mmsd_loss is 0.00013, clc_loss is 0.00003, train_accuracy is 1.00000,test_accuracy is 1.00000\n",
      "Epoch74, mmsd_loss is 0.00012, clc_loss is 0.00003, train_accuracy is 1.00000,test_accuracy is 1.00000\n",
      "Epoch75, mmsd_loss is 0.00013, clc_loss is 0.00002, train_accuracy is 1.00000,test_accuracy is 1.00000\n",
      "Epoch76, mmsd_loss is 0.00013, clc_loss is 0.00002, train_accuracy is 1.00000,test_accuracy is 1.00000\n",
      "Epoch77, mmsd_loss is 0.00015, clc_loss is 0.00003, train_accuracy is 1.00000,test_accuracy is 1.00000\n",
      "Epoch78, mmsd_loss is 0.00014, clc_loss is 0.00002, train_accuracy is 1.00000,test_accuracy is 1.00000\n",
      "Epoch79, mmsd_loss is 0.00014, clc_loss is 0.00002, train_accuracy is 1.00000,test_accuracy is 1.00000\n",
      "Epoch80, mmsd_loss is 0.00011, clc_loss is 0.00002, train_accuracy is 1.00000,test_accuracy is 1.00000\n"
     ]
    },
    {
     "name": "stdout",
     "output_type": "stream",
     "text": [
      "Epoch81, mmsd_loss is 0.00011, clc_loss is 0.00002, train_accuracy is 1.00000,test_accuracy is 1.00000\n",
      "Epoch82, mmsd_loss is 0.00012, clc_loss is 0.00002, train_accuracy is 1.00000,test_accuracy is 1.00000\n",
      "Epoch83, mmsd_loss is 0.00010, clc_loss is 0.00002, train_accuracy is 1.00000,test_accuracy is 1.00000\n",
      "Epoch84, mmsd_loss is 0.00012, clc_loss is 0.00002, train_accuracy is 1.00000,test_accuracy is 1.00000\n",
      "Epoch85, mmsd_loss is 0.00012, clc_loss is 0.00002, train_accuracy is 1.00000,test_accuracy is 1.00000\n",
      "Epoch86, mmsd_loss is 0.00011, clc_loss is 0.00002, train_accuracy is 1.00000,test_accuracy is 1.00000\n",
      "Epoch87, mmsd_loss is 0.00010, clc_loss is 0.00002, train_accuracy is 1.00000,test_accuracy is 1.00000\n",
      "Epoch88, mmsd_loss is 0.00011, clc_loss is 0.00002, train_accuracy is 1.00000,test_accuracy is 1.00000\n",
      "Epoch89, mmsd_loss is 0.00009, clc_loss is 0.00002, train_accuracy is 1.00000,test_accuracy is 1.00000\n",
      "Epoch90, mmsd_loss is 0.00010, clc_loss is 0.00002, train_accuracy is 1.00000,test_accuracy is 1.00000\n",
      "Epoch91, mmsd_loss is 0.00007, clc_loss is 0.00002, train_accuracy is 1.00000,test_accuracy is 1.00000\n",
      "Epoch92, mmsd_loss is 0.00010, clc_loss is 0.00002, train_accuracy is 1.00000,test_accuracy is 1.00000\n",
      "Epoch93, mmsd_loss is 0.00011, clc_loss is 0.00002, train_accuracy is 1.00000,test_accuracy is 1.00000\n",
      "Epoch94, mmsd_loss is 0.00011, clc_loss is 0.00002, train_accuracy is 1.00000,test_accuracy is 1.00000\n",
      "Epoch95, mmsd_loss is 0.00011, clc_loss is 0.00002, train_accuracy is 1.00000,test_accuracy is 1.00000\n",
      "Epoch96, mmsd_loss is 0.00007, clc_loss is 0.00002, train_accuracy is 1.00000,test_accuracy is 1.00000\n",
      "Epoch97, mmsd_loss is 0.00008, clc_loss is 0.00001, train_accuracy is 1.00000,test_accuracy is 1.00000\n",
      "Epoch98, mmsd_loss is 0.00010, clc_loss is 0.00001, train_accuracy is 1.00000,test_accuracy is 1.00000\n",
      "Epoch99, mmsd_loss is 0.00010, clc_loss is 0.00002, train_accuracy is 1.00000,test_accuracy is 1.00000\n",
      "Epoch100, mmsd_loss is 0.00007, clc_loss is 0.00001, train_accuracy is 1.00000,test_accuracy is 1.00000\n"
     ]
    }
   ],
   "source": [
    "epochs=100\n",
    "train(epochs)"
   ]
  },
  {
   "cell_type": "code",
   "execution_count": 13,
   "metadata": {},
   "outputs": [
    {
     "data": {
      "image/png": "[encoded data removed]",
      "text/plain": [
       "<Figure size 432x288 with 1 Axes>"
      ]
     },
     "metadata": {
      "needs_background": "light"
     },
     "output_type": "display_data"
    },
    {
     "data": {
      "image/png": "[encoded data removed]",
      "text/plain": [
       "<Figure size 432x288 with 1 Axes>"
      ]
     },
     "metadata": {
      "needs_background": "light"
     },
     "output_type": "display_data"
    },
    {
     "data": {
      "image/png": "[encoded data removed]",
      "text/plain": [
       "<Figure size 432x288 with 1 Axes>"
      ]
     },
     "metadata": {
      "needs_background": "light"
     },
     "output_type": "display_data"
    },
    {
     "data": {
      "image/png": "[encoded data removed]",
      "text/plain": [
       "<Figure size 432x288 with 1 Axes>"
      ]
     },
     "metadata": {
      "needs_background": "light"
     },
     "output_type": "display_data"
    }
   ],
   "source": [
    "string=['train_acc','test_acc','clc_loss_','mmsd_loss_']\n",
    "for i in string:\n",
    "    plt.plot(eval(i),label=i)\n",
    "    plt.legend()\n",
    "    plt.show()"
   ]
  }
 ],
 "metadata": {
  "kernelspec": {
   "display_name": "Python [conda env:tf2] *",
   "language": "python",
   "name": "conda-env-tf2-py"
  },
  "language_info": {
   "codemirror_mode": {
    "name": "ipython",
    "version": 3
   },
   "file_extension": ".py",
   "mimetype": "text/x-python",
   "name": "python",
   "nbconvert_exporter": "python",
   "pygments_lexer": "ipython3",
   "version": "3.8.12"
  }
 },
 "nbformat": 4,
 "nbformat_minor": 4
}
